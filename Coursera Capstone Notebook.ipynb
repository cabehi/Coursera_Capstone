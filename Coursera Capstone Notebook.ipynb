{
  "nbformat": 4,
  "nbformat_minor": 0,
  "metadata": {
    "colab": {
      "name": "Untitled1.ipynb",
      "provenance": [],
      "collapsed_sections": []
    },
    "kernelspec": {
      "name": "python3",
      "display_name": "Python 3"
    },
    "language_info": {
      "name": "python"
    }
  },
  "cells": [
    {
      "cell_type": "markdown",
      "metadata": {
        "id": "hb1Apz6gP_lk"
      },
      "source": [
        "# Coursera Capstone Notebook"
      ]
    },
    {
      "cell_type": "markdown",
      "metadata": {
        "id": "3E1KnMrWQQEv"
      },
      "source": [
        "This notebook will be only used for the  *IBM Data Science Professional Certificate* **Applied Data Science Capstone Project** (Module 10)."
      ]
    },
    {
      "cell_type": "code",
      "metadata": {
        "id": "O9aM6ZmGQgbm"
      },
      "source": [
        "import pandas as pd\n",
        "import numpy as np"
      ],
      "execution_count": 3,
      "outputs": []
    },
    {
      "cell_type": "code",
      "metadata": {
        "colab": {
          "base_uri": "https://localhost:8080/"
        },
        "id": "sPCMYQD2Qu_R",
        "outputId": "19d294fb-98c8-45a3-f7df-13aa504a1617"
      },
      "source": [
        "print (\"Hello Capstone Project Course!\")"
      ],
      "execution_count": 4,
      "outputs": [
        {
          "output_type": "stream",
          "text": [
            "Hello Capstone Project Course!\n"
          ],
          "name": "stdout"
        }
      ]
    }
  ]
}